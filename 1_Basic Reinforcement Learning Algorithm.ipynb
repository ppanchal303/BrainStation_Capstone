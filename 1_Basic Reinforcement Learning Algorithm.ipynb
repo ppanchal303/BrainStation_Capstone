{
 "cells": [
  {
   "cell_type": "markdown",
   "id": "0f7bf051",
   "metadata": {},
   "source": [
    "# Basic Reinforcement Learning Implementation"
   ]
  },
  {
   "cell_type": "markdown",
   "id": "ca2dbc54",
   "metadata": {},
   "source": [
    "**Capstone Project:** To Study the Methodologies of Reinforcement Learning and to Develop an Understanding of Problem Representation in Code<br>\n",
    "**Author:** Pranav Panchal<br>\n",
    "**Notebook:** 1 of 3<br>\n",
    "**Next Notebook:** Exploration of OpenAI Gym<br>"
   ]
  },
  {
   "cell_type": "markdown",
   "id": "8904b039",
   "metadata": {},
   "source": [
    "### Table of contents\n",
    "1. [What is Machine Learning?](#What-is-Machine-Learning?)\n",
    "2. [What is Reinforcement Learning?](#What-is-Reinforcement-Learning?)\n",
    "3. [Basic RL Implementation](#Basic-RL-Implementation)\n",
    "4. [Project Statement](#Project-Statement)"
   ]
  },
  {
   "cell_type": "markdown",
   "id": "e20e710c",
   "metadata": {},
   "source": [
    "### What is Machine Learning?"
   ]
  },
  {
   "cell_type": "markdown",
   "id": "05b8a0ac",
   "metadata": {},
   "source": [
    "Machine learning is a field in computer science which tries to understand and build models which can learn a behavior from a dataset and can consequently perform some set of tasks. Machine learning models can be broadly divided into three categories Supervised learning, Unsupervised learning and Reinforcement learning."
   ]
  },
  {
   "cell_type": "markdown",
   "id": "3547d7c4",
   "metadata": {},
   "source": [
    "<img src = \"https://www.mathworks.com/discovery/reinforcement-learning/_jcr_content/mainParsys3/discoverysubsection/mainParsys/image.adapt.full.medium.png/1663235165820.png\" width = 600>\n",
    "<center><i>(Image Source: <a>https://www.mathworks.com/discovery/reinforcement-learning/_jcr_content/mainParsys3/discoverysubsection/mainParsys/image.adapt.full.medium.png/1663235165820.png</a>)</i></center>"
   ]
  },
  {
   "cell_type": "markdown",
   "id": "92f99cd1",
   "metadata": {},
   "source": [
    "This notebook gives the most basic implementation of reinforcement learning algorithim. "
   ]
  },
  {
   "cell_type": "markdown",
   "id": "883bb2a3",
   "metadata": {},
   "source": [
    "### What is Reinforcement Learning?"
   ]
  },
  {
   "cell_type": "markdown",
   "id": "bae906c9",
   "metadata": {},
   "source": [
    "In reinforcement learning an `agent` is introduced to an environment which has a set of rules and objectives. The agent is initially unaware of these rules. The agent is however able to experience the environment, i.e. it is able to observe the `state` of the environment. Based on the state the agent is required to take some `action` from a predetermined set of `actions`. These actions would in-turn change the `state` of the environment and the cycle continues.\n",
    "\n",
    "Some `actions` would sometime lead to a positive outcome(target objective) and some other time it may lead to negative outcome. The environment is coded as such that when a positive outcome occurs a `reward` is handed to the agent and the agent is required to try and maximise this `reward`. Contrary a `penalty` is incurred when the outcome is undesired.\n",
    "\n",
    "Eventually, the `agent` learns its environment and is able to perform task efficiently."
   ]
  },
  {
   "cell_type": "markdown",
   "id": "046d4140",
   "metadata": {},
   "source": [
    "<img src = \"https://hub.packtpub.com/wp-content/uploads/2019/12/reinforcement-learning-768x626.png\" width = 600>\n",
    "<center><i>(Image Source: <a>https://hub.packtpub.com/wp-content/uploads/2019/12/reinforcement-learning-768x626.png</a>)</i></center>"
   ]
  },
  {
   "cell_type": "markdown",
   "id": "cafe8f34",
   "metadata": {},
   "source": [
    "### Basic RL Implementation"
   ]
  },
  {
   "cell_type": "markdown",
   "id": "ddea8592",
   "metadata": {},
   "source": [
    "Let's create a simple environment"
   ]
  },
  {
   "cell_type": "code",
   "execution_count": 1,
   "id": "025cef92",
   "metadata": {},
   "outputs": [],
   "source": [
    "# Importing dependencies\n",
    "import random\n",
    "import numpy as np\n",
    "from typing import List\n",
    "\n",
    "np.random.seed(42)"
   ]
  },
  {
   "cell_type": "code",
   "execution_count": 2,
   "id": "4748dc27",
   "metadata": {},
   "outputs": [],
   "source": [
    "# Defining the sample environment\n",
    "class SampleEnvironment:\n",
    "    '''\n",
    "    A class to represent a simple environment.\n",
    "    '''\n",
    "    def __init__(self):\n",
    "        '''\n",
    "        Initialises the environment.\n",
    "        Initialises the variable steps_left with an integer value.\n",
    "\n",
    "        The environment state is represented by a list of 3 integers from 0-9 and \n",
    "        it is designed to reward the agent when it take a step.\n",
    "\n",
    "        The reward is 0 if the integer at index 2 of the state is even and 1 when it is odd.\n",
    "\n",
    "        Example:\n",
    "            State: [4 8 1]   Reward: 1\n",
    "            State: [6 5 5]   Reward: 1\n",
    "            State: [8 7 6]   Reward: 0\n",
    "        '''\n",
    "        self.steps_left = 10\n",
    "        \n",
    "    def get_observation(self):\n",
    "        '''\n",
    "        INPUT: none\n",
    "        OUTPUT: returns the state of the environment\n",
    "\n",
    "        Returns an array depicting the state of the environment.\n",
    "        '''\n",
    "        state = np.random.randint(0, 9, 3)\n",
    "        return state\n",
    "    \n",
    "    def get_actions(self, state):\n",
    "        '''\n",
    "        INPUT: state\n",
    "        OUTPUT: list of possible actions\n",
    "\n",
    "        Returns a array of possible actions. This is generated as a range from 0 to state[1]\n",
    "\n",
    "        Example:\n",
    "            INPUT: [4 8 1]   OUTPUT: [0 1 2 3 4 5 6 7 8]\n",
    "            INPUT: [6 5 5]   OUTPUT: [0 1 2 3 4 5]\n",
    "            INPUT: [8 7 6]   OUTPUT: [0 1 2 3 4 5 6 7]\n",
    "        '''\n",
    "        list_of_actions = np.arange(0, state[1]+1, 1)\n",
    "        return list_of_actions\n",
    "    \n",
    "    def is_done(self):\n",
    "        '''\n",
    "        INPUT: none\n",
    "        OUTPUT: bool\n",
    "\n",
    "        Checks whether the steps_left variable has value 0, returns TRUE if value is 0, else returns FALSE.\n",
    "        '''\n",
    "        # Checks whether the number of steps are over\n",
    "        if self.steps_left == 0:\n",
    "            print(\"Game is over\")\n",
    "            return True\n",
    "        else:\n",
    "            return False\n",
    "    \n",
    "    def action(self, state):\n",
    "        '''\n",
    "        INPUT: state\n",
    "        OUTPUT: int, (0 or 1)\n",
    "\n",
    "        Take an action step within an environment.\n",
    "\n",
    "        Example:\n",
    "        INPUT: [4, 8, 1]   OUTPUT: 1\n",
    "        INPUT: [6, 5, 5]   OUTPUT: 1\n",
    "        INPUT: [8, 7, 6]   OUTPUT: 0\n",
    "        '''\n",
    "        # Reduces the steps_left by 1\n",
    "        self.steps_left -= 1\n",
    "        \n",
    "        # Checks whether the integer at index 2 of state is even or odd\n",
    "        if state[2] % 2 == 0:\n",
    "            return 0\n",
    "        else:\n",
    "            return 1"
   ]
  },
  {
   "cell_type": "markdown",
   "id": "0af4cc51",
   "metadata": {},
   "source": [
    "Next, we will create the agent which can interact with the above environment."
   ]
  },
  {
   "cell_type": "code",
   "execution_count": 3,
   "id": "d56471d4",
   "metadata": {},
   "outputs": [],
   "source": [
    "# Define the agent class\n",
    "class Agent:\n",
    "    def __init__(self):\n",
    "        '''\n",
    "            Initialises the agent and initialises the total reward at 0.\n",
    "        '''\n",
    "        self.total_reward = 0.0\n",
    "        \n",
    "    def step(self, env:SampleEnvironment):\n",
    "        '''\n",
    "            INPUT: sample environment\n",
    "            OUTPUT: total_reward\n",
    "            \n",
    "            Defines a step taken by the agent in the environment.\n",
    "        '''\n",
    "        # Get the current state of the environment\n",
    "        state = env.get_observation()\n",
    "        \n",
    "        # Get the list of possible actions for the given state\n",
    "        actions = env.get_actions(state)\n",
    "        \n",
    "        # Get the reward for the given state\n",
    "        reward = env.action(state)\n",
    "        \n",
    "        # Print the variables\n",
    "        print(f\"State: {state}\\tReward: {reward}\\tList of actions: {actions}\")\n",
    "        \n",
    "        # Calculate the total reward\n",
    "        self.total_reward += reward"
   ]
  },
  {
   "cell_type": "markdown",
   "id": "a0a1814d",
   "metadata": {},
   "source": [
    "Now, that we have written the code for both the environment and the agent, we can now initialise both and check the result."
   ]
  },
  {
   "cell_type": "code",
   "execution_count": 4,
   "id": "16e32101",
   "metadata": {},
   "outputs": [
    {
     "name": "stdout",
     "output_type": "stream",
     "text": [
      "State: [6 3 7]\tReward: 1\tList of actions: [0 1 2 3]\n",
      "State: [4 6 2]\tReward: 0\tList of actions: [0 1 2 3 4 5 6]\n",
      "State: [6 7 4]\tReward: 0\tList of actions: [0 1 2 3 4 5 6 7]\n",
      "State: [3 7 7]\tReward: 1\tList of actions: [0 1 2 3 4 5 6 7]\n",
      "State: [2 5 4]\tReward: 0\tList of actions: [0 1 2 3 4 5]\n",
      "State: [1 7 5]\tReward: 1\tList of actions: [0 1 2 3 4 5 6 7]\n",
      "State: [1 4 0]\tReward: 0\tList of actions: [0 1 2 3 4]\n",
      "State: [5 8 0]\tReward: 0\tList of actions: [0 1 2 3 4 5 6 7 8]\n",
      "State: [2 6 3]\tReward: 1\tList of actions: [0 1 2 3 4 5 6]\n",
      "State: [8 2 4]\tReward: 0\tList of actions: [0 1 2]\n",
      "Game is over\n",
      "Total reward got: 4.0\n"
     ]
    }
   ],
   "source": [
    "# Initialise the environment\n",
    "env = SampleEnvironment()\n",
    "\n",
    "# Initialise the agent\n",
    "agent = Agent()\n",
    "\n",
    "# Take a step in the environment till the done condition is met\n",
    "while not env.is_done():\n",
    "    agent.step(env)\n",
    "\n",
    "# Print the total reward\n",
    "print(f\"Total reward got: {agent.total_reward}\")"
   ]
  },
  {
   "cell_type": "markdown",
   "id": "b059d14f",
   "metadata": {},
   "source": [
    "Though this is not a very sophisticated `environment-agent` modeling, it satisfies the basic mechanism of reinforcement learning.\n",
    "\n",
    "Our `agent` is able to observe the `state` of the environment and the number of `actions` available to the agent is dependent of the `state` of the environment (Though we receive the number of `actions`, we have not coded any separate interaction based on these list of `actions`, our agent is only able to step forward within the environment). The `reward` is a consequence of the `action` taken on the current `state`."
   ]
  },
  {
   "cell_type": "markdown",
   "id": "b2e6ce88",
   "metadata": {},
   "source": [
    "### Project Statement<br>\n",
    "**<center>To study the methodologies of Reinforcement Learning and to develop an understanding of problem representation in code.</center>**"
   ]
  },
  {
   "cell_type": "markdown",
   "id": "81f88b8e",
   "metadata": {},
   "source": [
    "The aim of the project is to understand the methodology of implementing a reinforcement learning algorithm to problem. This project aims to help understand how one can create their own environments to represent a problem in python and train a learning agent to interact with it and achieve the objectives of the problem.\n",
    "\n",
    "Everyone knows the snake game. The objective of the snake game is to eat the apple and let the snake grow in length. We will try to implement a reinforcement learning model to play a game of snake."
   ]
  },
  {
   "cell_type": "markdown",
   "id": "c4f57401",
   "metadata": {},
   "source": [
    "<img src = \"https://media.istockphoto.com/vectors/cute-funny-snake-vector-cartoon-reptile-isolated-on-white-background-vector-id1128740486?k=20&m=1128740486&s=612x612&w=0&h=L5qjI89nOrA_5POMFOAzGF_yHOtMZTzSEZqRTaalNg4=\" width = 400>\n",
    "<center><i>(Image Source: <a>https://media.istockphoto.com/vectors/cute-funny-snake-vector-cartoon-reptile-isolated-on-white-background-vector-id1128740486?k=20&m=1128740486&s=612x612&w=0&h=L5qjI89nOrA_5POMFOAzGF_yHOtMZTzSEZqRTaalNg4=</a>)</i></center>"
   ]
  },
  {
   "cell_type": "markdown",
   "id": "3cd8ab4d",
   "metadata": {},
   "source": [
    "This problem is tackled and successfully completed by many; however, the idea is not only to implement the reinforcement learning model, but also to learn how to define and code the environment which represents the problem to be solved.\n",
    "\n",
    "In reinforcement learning, the environment definition plays an important role. The representation of state and the different regards and penalty weights affect the behaviour of the learning agent."
   ]
  },
  {
   "cell_type": "markdown",
   "id": "0ad5d475",
   "metadata": {},
   "source": [
    "In the next notebook, we will be looking at implementing this understanding of reinforcement learning using a the Q-learning on a pre-defined environment from the gym library."
   ]
  }
 ],
 "metadata": {
  "kernelspec": {
   "display_name": "Python [conda env:deeplearning]",
   "language": "python",
   "name": "conda-env-deeplearning-py"
  },
  "language_info": {
   "codemirror_mode": {
    "name": "ipython",
    "version": 3
   },
   "file_extension": ".py",
   "mimetype": "text/x-python",
   "name": "python",
   "nbconvert_exporter": "python",
   "pygments_lexer": "ipython3",
   "version": "3.8.13"
  }
 },
 "nbformat": 4,
 "nbformat_minor": 5
}
